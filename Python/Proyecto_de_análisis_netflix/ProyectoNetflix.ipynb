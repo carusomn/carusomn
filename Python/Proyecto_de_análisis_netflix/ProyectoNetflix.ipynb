{
 "cells": [
  {
   "cell_type": "markdown",
   "id": "213b2093",
   "metadata": {},
   "source": [
    "##### Proyecto Netflix"
   ]
  },
  {
   "cell_type": "markdown",
   "id": "ada214da",
   "metadata": {},
   "source": [
    "### Objetivo\n",
    "<p> El objetivo es aplicar técnicas de manipulación y visualización de datos para responder preguntas concretas sobre las películas estrenadas en la década de 1990.</p>"
   ]
  },
  {
   "cell_type": "code",
   "execution_count": 1,
   "id": "9ef38685",
   "metadata": {},
   "outputs": [],
   "source": [
    "import pandas as pd"
   ]
  },
  {
   "cell_type": "markdown",
   "id": "1ae024be",
   "metadata": {},
   "source": [
    "<p>Importo el archivo</p>"
   ]
  },
  {
   "cell_type": "code",
   "execution_count": 2,
   "id": "b20714ff",
   "metadata": {},
   "outputs": [
    {
     "data": {
      "text/plain": [
       "Index(['index', 'show_id', 'type', 'title', 'director', 'cast', 'country',\n",
       "       'date_added', 'release_year', 'duration', 'description', 'genre'],\n",
       "      dtype='object')"
      ]
     },
     "execution_count": 2,
     "metadata": {},
     "output_type": "execute_result"
    }
   ],
   "source": [
    "netflix = pd.read_csv(\"netflix.csv\")\n",
    "#Columnas del archivo\n",
    "netflix.columns"
   ]
  },
  {
   "cell_type": "markdown",
   "id": "06a0142b",
   "metadata": {},
   "source": [
    "<p>Reviso si el archivo contiene valores nulo</p>"
   ]
  },
  {
   "cell_type": "code",
   "execution_count": 3,
   "id": "60481ddd",
   "metadata": {},
   "outputs": [
    {
     "data": {
      "text/plain": [
       "index           0\n",
       "show_id         0\n",
       "type            0\n",
       "title           0\n",
       "director        0\n",
       "cast            0\n",
       "country         0\n",
       "date_added      0\n",
       "release_year    0\n",
       "duration        0\n",
       "description     0\n",
       "genre           0\n",
       "dtype: int64"
      ]
     },
     "execution_count": 3,
     "metadata": {},
     "output_type": "execute_result"
    }
   ],
   "source": [
    "netflix.isna().sum()"
   ]
  },
  {
   "cell_type": "markdown",
   "id": "9fedba27",
   "metadata": {},
   "source": [
    "##### ¿Cual es la duración mas frecuente en las peliculas de la decada de 1990?\n",
    "<p>Filtro las peliculas cuyo release_year este entre 1990 y 1999</p>"
   ]
  },
  {
   "cell_type": "code",
   "execution_count": null,
   "id": "cb220166",
   "metadata": {},
   "outputs": [
    {
     "data": {
      "text/html": [
       "<div>\n",
       "<style scoped>\n",
       "    .dataframe tbody tr th:only-of-type {\n",
       "        vertical-align: middle;\n",
       "    }\n",
       "\n",
       "    .dataframe tbody tr th {\n",
       "        vertical-align: top;\n",
       "    }\n",
       "\n",
       "    .dataframe thead th {\n",
       "        text-align: right;\n",
       "    }\n",
       "</style>\n",
       "<table border=\"1\" class=\"dataframe\">\n",
       "  <thead>\n",
       "    <tr style=\"text-align: right;\">\n",
       "      <th></th>\n",
       "      <th>index</th>\n",
       "      <th>show_id</th>\n",
       "      <th>type</th>\n",
       "      <th>title</th>\n",
       "      <th>director</th>\n",
       "      <th>cast</th>\n",
       "      <th>country</th>\n",
       "      <th>date_added</th>\n",
       "      <th>release_year</th>\n",
       "      <th>duration</th>\n",
       "      <th>description</th>\n",
       "      <th>genre</th>\n",
       "    </tr>\n",
       "  </thead>\n",
       "  <tbody>\n",
       "    <tr>\n",
       "      <th>6</th>\n",
       "      <td>6</td>\n",
       "      <td>s8</td>\n",
       "      <td>Movie</td>\n",
       "      <td>187</td>\n",
       "      <td>Kevin Reynolds</td>\n",
       "      <td>Samuel L. Jackson, John Heard, Kelly Rowan, Cl...</td>\n",
       "      <td>United States</td>\n",
       "      <td>November 1, 2019</td>\n",
       "      <td>1997</td>\n",
       "      <td>119</td>\n",
       "      <td>After one of his high school students attacks ...</td>\n",
       "      <td>Dramas</td>\n",
       "    </tr>\n",
       "    <tr>\n",
       "      <th>118</th>\n",
       "      <td>118</td>\n",
       "      <td>s167</td>\n",
       "      <td>Movie</td>\n",
       "      <td>A Dangerous Woman</td>\n",
       "      <td>Stephen Gyllenhaal</td>\n",
       "      <td>Debra Winger, Barbara Hershey, Gabriel Byrne, ...</td>\n",
       "      <td>United States</td>\n",
       "      <td>April 1, 2018</td>\n",
       "      <td>1993</td>\n",
       "      <td>101</td>\n",
       "      <td>At the center of this engrossing melodrama is ...</td>\n",
       "      <td>Dramas</td>\n",
       "    </tr>\n",
       "    <tr>\n",
       "      <th>145</th>\n",
       "      <td>145</td>\n",
       "      <td>s211</td>\n",
       "      <td>Movie</td>\n",
       "      <td>A Night at the Roxbury</td>\n",
       "      <td>John Fortenberry</td>\n",
       "      <td>Will Ferrell, Chris Kattan, Dan Hedaya, Molly ...</td>\n",
       "      <td>United States</td>\n",
       "      <td>December 1, 2019</td>\n",
       "      <td>1998</td>\n",
       "      <td>82</td>\n",
       "      <td>After a run-in with Richard Grieco, dimwits Do...</td>\n",
       "      <td>Comedies</td>\n",
       "    </tr>\n",
       "  </tbody>\n",
       "</table>\n",
       "</div>"
      ],
      "text/plain": [
       "     index show_id   type                   title            director  \\\n",
       "6        6      s8  Movie                     187      Kevin Reynolds   \n",
       "118    118    s167  Movie       A Dangerous Woman  Stephen Gyllenhaal   \n",
       "145    145    s211  Movie  A Night at the Roxbury    John Fortenberry   \n",
       "\n",
       "                                                  cast        country  \\\n",
       "6    Samuel L. Jackson, John Heard, Kelly Rowan, Cl...  United States   \n",
       "118  Debra Winger, Barbara Hershey, Gabriel Byrne, ...  United States   \n",
       "145  Will Ferrell, Chris Kattan, Dan Hedaya, Molly ...  United States   \n",
       "\n",
       "           date_added  release_year  duration  \\\n",
       "6    November 1, 2019          1997       119   \n",
       "118     April 1, 2018          1993       101   \n",
       "145  December 1, 2019          1998        82   \n",
       "\n",
       "                                           description     genre  \n",
       "6    After one of his high school students attacks ...    Dramas  \n",
       "118  At the center of this engrossing melodrama is ...    Dramas  \n",
       "145  After a run-in with Richard Grieco, dimwits Do...  Comedies  "
      ]
     },
     "execution_count": 4,
     "metadata": {},
     "output_type": "execute_result"
    }
   ],
   "source": [
    "decade_90 = netflix[(netflix[\"release_year\"] >= 1990) & (netflix[\"release_year\"]<=1999)]\n",
    "decade_90.head(3)             "
   ]
  },
  {
   "cell_type": "markdown",
   "id": "4de160f6",
   "metadata": {},
   "source": [
    "<p>Duracion de Peliculas</p>"
   ]
  },
  {
   "cell_type": "code",
   "execution_count": 5,
   "id": "551aa900",
   "metadata": {},
   "outputs": [],
   "source": [
    "import matplotlib.pyplot as plt\n",
    "import matplotlib.ticker as ticker"
   ]
  },
  {
   "cell_type": "code",
   "execution_count": 6,
   "id": "9e256f9d",
   "metadata": {},
   "outputs": [
    {
     "data": {
      "image/png": "[encoded data removed]",
      "text/plain": [
       "<Figure size 640x480 with 1 Axes>"
      ]
     },
     "metadata": {},
     "output_type": "display_data"
    },
    {
     "name": "stdout",
     "output_type": "stream",
     "text": [
      "¿Cuál fue la duración más frecuente de una película en la década de 1990? \n",
      "Respuesta: 94 minutos\n"
     ]
    }
   ],
   "source": [
    "n, bins, patches = plt.hist(decade_90[\"duration\"].dropna(),bins=20,edgecolor=\"white\")\n",
    "\n",
    "# Titulos gráficos y eje\n",
    "plt.xlabel(\"Duration\")\n",
    "plt.ylabel(\"Frequency\")\n",
    "plt.title(\"Distribution of film lengths (1990s)\")\n",
    "\n",
    "# Ajustar ticks del eje x cada 20 minutos\n",
    "plt.gca().xaxis.set_major_locator(ticker.MultipleLocator(20))\n",
    "\n",
    "#Agregar etiquetas encima de cada barra\n",
    "for i in range(len(n)):\n",
    "    #Posición x: El centro de la barra\n",
    "    x =(bins[i]+bins[i+1])/2\n",
    "    #Posición y: La altura de la barra\n",
    "    y =n[i]\n",
    "    plt.text(x,y,str(int(y)),ha=\"center\",va=\"bottom\",fontsize=8)\n",
    "\n",
    "plt.show()\n",
    "duration = decade_90[\"duration\"].mode()[0]\n",
    "print(f\"¿Cuál fue la duración más frecuente de una película en la década de 1990? \\nRespuesta: {duration} minutos\")"
   ]
  },
  {
   "cell_type": "markdown",
   "id": "5d2e4911",
   "metadata": {},
   "source": [
    "##### Una película se considera corta si dura menos de 90 minutos. Número de cortometrajes de acción estrenados en la década de 1990 "
   ]
  },
  {
   "cell_type": "code",
   "execution_count": 7,
   "id": "a75d85a8",
   "metadata": {},
   "outputs": [
    {
     "data": {
      "text/plain": [
       "Index(['index', 'show_id', 'type', 'title', 'director', 'cast', 'country',\n",
       "       'date_added', 'release_year', 'duration', 'description', 'genre'],\n",
       "      dtype='object')"
      ]
     },
     "execution_count": 7,
     "metadata": {},
     "output_type": "execute_result"
    }
   ],
   "source": [
    "decade_90.columns"
   ]
  },
  {
   "cell_type": "markdown",
   "id": "c95f3e59",
   "metadata": {},
   "source": [
    "<p>Generos de peliculas:</p>"
   ]
  },
  {
   "cell_type": "code",
   "execution_count": 18,
   "id": "7bbd16c0",
   "metadata": {},
   "outputs": [
    {
     "data": {
      "text/plain": [
       "array(['Dramas', 'Comedies', 'Children', 'Action', 'Documentaries',\n",
       "       'Classic Movies', 'Stand-Up', 'Cult Movies', 'Thrillers',\n",
       "       'Horror Movies', 'Docuseries'], dtype=object)"
      ]
     },
     "execution_count": 18,
     "metadata": {},
     "output_type": "execute_result"
    }
   ],
   "source": [
    "decade_90[\"genre\"].unique()"
   ]
  },
  {
   "cell_type": "markdown",
   "id": "2b3394bb",
   "metadata": {},
   "source": [
    "<p>Creo un dataframe con las peliculas de accion de la decada de los '90</p>"
   ]
  },
  {
   "cell_type": "code",
   "execution_count": 19,
   "id": "ec92198c",
   "metadata": {},
   "outputs": [
    {
     "data": {
      "text/plain": [
       "Index(['index', 'show_id', 'type', 'title', 'director', 'cast', 'country',\n",
       "       'date_added', 'release_year', 'duration', 'description', 'genre'],\n",
       "      dtype='object')"
      ]
     },
     "execution_count": 19,
     "metadata": {},
     "output_type": "execute_result"
    }
   ],
   "source": [
    "decade_90_action = decade_90[decade_90[\"genre\"]==\"Action\"]\n",
    "decade_90_action.shape\n",
    "decade_90_action.columns"
   ]
  },
  {
   "cell_type": "code",
   "execution_count": 30,
   "id": "cb367023",
   "metadata": {},
   "outputs": [
    {
     "data": {
      "image/png": "[encoded data removed]",
      "text/plain": [
       "<Figure size 800x400 with 1 Axes>"
      ]
     },
     "metadata": {},
     "output_type": "display_data"
    }
   ],
   "source": [
    "ax = decade_90_action.groupby(\"release_year\")[\"title\"].count().plot(kind=\"bar\", figsize=(8,4),color='#CBDCEB')\n",
    "\n",
    "# Calculamos el valor máximo de la cantidad de películas\n",
    "counts = decade_90_action.groupby(\"release_year\")[\"title\"].count()\n",
    "max_count = counts.max()\n",
    "ax.set_ylim(0, max_count * 1.15)\n",
    "\n",
    "#Valores de las barras\n",
    "for p in ax.patches:\n",
    "    ax.annotate(str(int(p.get_height())), (p.get_x() + p.get_width() / 2, p.get_height() * 1.015),\n",
    "                ha='center', fontname='calibri', fontsize=11,fontweight='bold')\n",
    "\n",
    "plt.title(\"Número de películas de acción por año (1990s)\",fontweight='bold')\n",
    "plt.xlabel(\"Año\",fontweight='bold')\n",
    "plt.ylabel(\"Cantidad\",fontweight='bold')\n",
    "\n",
    "# Personalizar los ticks (números de los ejes)\n",
    "plt.xticks(rotation=0, fontname='calibri', fontsize=12)\n",
    "plt.yticks(fontname='calibri', fontsize=12)\n",
    "\n",
    "# Ajustar el diseño y mostrar el gráfico\n",
    "plt.show()"
   ]
  },
  {
   "cell_type": "code",
   "execution_count": 10,
   "id": "9b7550ba",
   "metadata": {},
   "outputs": [
    {
     "name": "stdout",
     "output_type": "stream",
     "text": [
      "Películas de acción de la decada '90 con duración < 90 minutos: 7\n",
      "Total películas de acción de la decada '90: 48\n",
      "porcentaje corta duración: 15%\n"
     ]
    }
   ],
   "source": [
    "short_movie_count = int((decade_90_action[\"duration\"]<90).sum())\n",
    "print(f\"Películas de acción de la decada '90 con duración < 90 minutos: {short_movie_count}\")\n",
    "total_accion = decade_90_action.shape[0]\n",
    "print(f\"Total películas de acción de la decada '90: {total_accion}\")\n",
    "porcentaje = (short_movie_count/total_accion)*100\n",
    "print(f\"porcentaje corta duración: {porcentaje:.0f}%\")"
   ]
  },
  {
   "cell_type": "markdown",
   "id": "9bb114e4",
   "metadata": {},
   "source": [
    "<p>Gráfico de tendencia de películas por año en los 90s</p>"
   ]
  },
  {
   "cell_type": "code",
   "execution_count": 28,
   "id": "db612d14",
   "metadata": {},
   "outputs": [
    {
     "data": {
      "image/png": "[encoded data removed]",
      "text/plain": [
       "<Figure size 800x400 with 1 Axes>"
      ]
     },
     "metadata": {},
     "output_type": "display_data"
    }
   ],
   "source": [
    "ax = decade_90.groupby(\"release_year\")[\"title\"].count().plot(kind=\"bar\", figsize=(8,4),color='#CBDCEB')\n",
    "\n",
    "# Calculamos el valor máximo de la cantidad de películas\n",
    "counts = decade_90.groupby(\"release_year\")[\"title\"].count()\n",
    "max_count = counts.max()\n",
    "ax.set_ylim(0, max_count * 1.15)\n",
    "\n",
    "#Valores de las barras\n",
    "for p in ax.patches:\n",
    "    ax.annotate(str(int(p.get_height())), (p.get_x() + p.get_width() / 2, p.get_height() * 1.015),\n",
    "                ha='center', fontname='calibri', fontsize=11,fontweight='bold')\n",
    "\n",
    "plt.title(\"Número de películas por año (1990s)\",fontweight='bold')\n",
    "plt.xlabel(\"Año\",fontweight='bold')\n",
    "plt.ylabel(\"Cantidad\",fontweight='bold')\n",
    "\n",
    "# Personalizar los ticks (números de los ejes)\n",
    "plt.xticks(rotation=0, fontname='calibri', fontsize=12)\n",
    "plt.yticks(fontname='calibri', fontsize=12)\n",
    "\n",
    "# Ajustar el diseño y mostrar el gráfico\n",
    "plt.tight_layout()\n",
    "plt.show()\n"
   ]
  },
  {
   "cell_type": "markdown",
   "id": "184c33d5",
   "metadata": {},
   "source": [
    "<p>Cantidad de películas por país</p>"
   ]
  },
  {
   "cell_type": "code",
   "execution_count": 12,
   "id": "81ca364d",
   "metadata": {},
   "outputs": [
    {
     "data": {
      "text/html": [
       "<div>\n",
       "<style scoped>\n",
       "    .dataframe tbody tr th:only-of-type {\n",
       "        vertical-align: middle;\n",
       "    }\n",
       "\n",
       "    .dataframe tbody tr th {\n",
       "        vertical-align: top;\n",
       "    }\n",
       "\n",
       "    .dataframe thead th {\n",
       "        text-align: right;\n",
       "    }\n",
       "</style>\n",
       "<table border=\"1\" class=\"dataframe\">\n",
       "  <thead>\n",
       "    <tr style=\"text-align: right;\">\n",
       "      <th></th>\n",
       "      <th>count</th>\n",
       "    </tr>\n",
       "    <tr>\n",
       "      <th>country</th>\n",
       "      <th></th>\n",
       "    </tr>\n",
       "  </thead>\n",
       "  <tbody>\n",
       "    <tr>\n",
       "      <th>Argentina</th>\n",
       "      <td>1</td>\n",
       "    </tr>\n",
       "    <tr>\n",
       "      <th>Australia</th>\n",
       "      <td>5</td>\n",
       "    </tr>\n",
       "    <tr>\n",
       "      <th>Canada</th>\n",
       "      <td>1</td>\n",
       "    </tr>\n",
       "    <tr>\n",
       "      <th>Egypt</th>\n",
       "      <td>1</td>\n",
       "    </tr>\n",
       "    <tr>\n",
       "      <th>France</th>\n",
       "      <td>5</td>\n",
       "    </tr>\n",
       "    <tr>\n",
       "      <th>Germany</th>\n",
       "      <td>2</td>\n",
       "    </tr>\n",
       "    <tr>\n",
       "      <th>Hong Kong</th>\n",
       "      <td>11</td>\n",
       "    </tr>\n",
       "    <tr>\n",
       "      <th>India</th>\n",
       "      <td>34</td>\n",
       "    </tr>\n",
       "    <tr>\n",
       "      <th>Japan</th>\n",
       "      <td>2</td>\n",
       "    </tr>\n",
       "    <tr>\n",
       "      <th>Mexico</th>\n",
       "      <td>3</td>\n",
       "    </tr>\n",
       "    <tr>\n",
       "      <th>Poland</th>\n",
       "      <td>1</td>\n",
       "    </tr>\n",
       "    <tr>\n",
       "      <th>Thailand</th>\n",
       "      <td>1</td>\n",
       "    </tr>\n",
       "    <tr>\n",
       "      <th>United Kingdom</th>\n",
       "      <td>17</td>\n",
       "    </tr>\n",
       "    <tr>\n",
       "      <th>United States</th>\n",
       "      <td>100</td>\n",
       "    </tr>\n",
       "  </tbody>\n",
       "</table>\n",
       "</div>"
      ],
      "text/plain": [
       "                count\n",
       "country              \n",
       "Argentina           1\n",
       "Australia           5\n",
       "Canada              1\n",
       "Egypt               1\n",
       "France              5\n",
       "Germany             2\n",
       "Hong Kong          11\n",
       "India              34\n",
       "Japan               2\n",
       "Mexico              3\n",
       "Poland              1\n",
       "Thailand            1\n",
       "United Kingdom     17\n",
       "United States     100"
      ]
     },
     "execution_count": 12,
     "metadata": {},
     "output_type": "execute_result"
    }
   ],
   "source": [
    "title_by_country = decade_90.groupby(\"country\")[\"title\"].agg([\"count\"])\n",
    "title_by_country"
   ]
  },
  {
   "cell_type": "markdown",
   "id": "4987ddd0",
   "metadata": {},
   "source": [
    "<p>Duración promedio por año</p>"
   ]
  },
  {
   "cell_type": "code",
   "execution_count": 13,
   "id": "8e95ffe3",
   "metadata": {},
   "outputs": [
    {
     "data": {
      "text/plain": [
       "release_year\n",
       "1990    109.67\n",
       "1991     93.50\n",
       "1992    104.00\n",
       "1993    120.00\n",
       "1994    128.43\n",
       "1995    116.44\n",
       "1996    120.13\n",
       "1997    116.96\n",
       "1998    109.88\n",
       "1999    121.88\n",
       "Name: duration, dtype: float64"
      ]
     },
     "execution_count": 13,
     "metadata": {},
     "output_type": "execute_result"
    }
   ],
   "source": [
    "round(decade_90.groupby(\"release_year\")[\"duration\"].mean(),2)"
   ]
  },
  {
   "cell_type": "markdown",
   "id": "97a90930",
   "metadata": {},
   "source": [
    "<p>Múltiples agregaciones</p>"
   ]
  },
  {
   "cell_type": "code",
   "execution_count": 14,
   "id": "61d9bcda",
   "metadata": {},
   "outputs": [
    {
     "data": {
      "text/html": [
       "<div>\n",
       "<style scoped>\n",
       "    .dataframe tbody tr th:only-of-type {\n",
       "        vertical-align: middle;\n",
       "    }\n",
       "\n",
       "    .dataframe tbody tr th {\n",
       "        vertical-align: top;\n",
       "    }\n",
       "\n",
       "    .dataframe thead th {\n",
       "        text-align: right;\n",
       "    }\n",
       "</style>\n",
       "<table border=\"1\" class=\"dataframe\">\n",
       "  <thead>\n",
       "    <tr style=\"text-align: right;\">\n",
       "      <th></th>\n",
       "      <th>count</th>\n",
       "      <th>mean</th>\n",
       "      <th>min</th>\n",
       "      <th>max</th>\n",
       "    </tr>\n",
       "    <tr>\n",
       "      <th>country</th>\n",
       "      <th></th>\n",
       "      <th></th>\n",
       "      <th></th>\n",
       "      <th></th>\n",
       "    </tr>\n",
       "  </thead>\n",
       "  <tbody>\n",
       "    <tr>\n",
       "      <th>Argentina</th>\n",
       "      <td>1</td>\n",
       "      <td>81.00</td>\n",
       "      <td>81</td>\n",
       "      <td>81</td>\n",
       "    </tr>\n",
       "    <tr>\n",
       "      <th>Australia</th>\n",
       "      <td>5</td>\n",
       "      <td>102.60</td>\n",
       "      <td>93</td>\n",
       "      <td>120</td>\n",
       "    </tr>\n",
       "    <tr>\n",
       "      <th>Canada</th>\n",
       "      <td>1</td>\n",
       "      <td>31.00</td>\n",
       "      <td>31</td>\n",
       "      <td>31</td>\n",
       "    </tr>\n",
       "    <tr>\n",
       "      <th>Egypt</th>\n",
       "      <td>1</td>\n",
       "      <td>130.00</td>\n",
       "      <td>130</td>\n",
       "      <td>130</td>\n",
       "    </tr>\n",
       "    <tr>\n",
       "      <th>France</th>\n",
       "      <td>5</td>\n",
       "      <td>112.80</td>\n",
       "      <td>94</td>\n",
       "      <td>136</td>\n",
       "    </tr>\n",
       "    <tr>\n",
       "      <th>Germany</th>\n",
       "      <td>2</td>\n",
       "      <td>89.50</td>\n",
       "      <td>85</td>\n",
       "      <td>94</td>\n",
       "    </tr>\n",
       "    <tr>\n",
       "      <th>Hong Kong</th>\n",
       "      <td>11</td>\n",
       "      <td>94.36</td>\n",
       "      <td>79</td>\n",
       "      <td>125</td>\n",
       "    </tr>\n",
       "    <tr>\n",
       "      <th>India</th>\n",
       "      <td>34</td>\n",
       "      <td>162.85</td>\n",
       "      <td>126</td>\n",
       "      <td>193</td>\n",
       "    </tr>\n",
       "    <tr>\n",
       "      <th>Japan</th>\n",
       "      <td>2</td>\n",
       "      <td>78.00</td>\n",
       "      <td>69</td>\n",
       "      <td>87</td>\n",
       "    </tr>\n",
       "    <tr>\n",
       "      <th>Mexico</th>\n",
       "      <td>3</td>\n",
       "      <td>103.33</td>\n",
       "      <td>94</td>\n",
       "      <td>111</td>\n",
       "    </tr>\n",
       "    <tr>\n",
       "      <th>Poland</th>\n",
       "      <td>1</td>\n",
       "      <td>88.00</td>\n",
       "      <td>88</td>\n",
       "      <td>88</td>\n",
       "    </tr>\n",
       "    <tr>\n",
       "      <th>Thailand</th>\n",
       "      <td>1</td>\n",
       "      <td>101.00</td>\n",
       "      <td>101</td>\n",
       "      <td>101</td>\n",
       "    </tr>\n",
       "    <tr>\n",
       "      <th>United Kingdom</th>\n",
       "      <td>17</td>\n",
       "      <td>97.06</td>\n",
       "      <td>28</td>\n",
       "      <td>143</td>\n",
       "    </tr>\n",
       "    <tr>\n",
       "      <th>United States</th>\n",
       "      <td>100</td>\n",
       "      <td>106.90</td>\n",
       "      <td>1</td>\n",
       "      <td>195</td>\n",
       "    </tr>\n",
       "  </tbody>\n",
       "</table>\n",
       "</div>"
      ],
      "text/plain": [
       "                count    mean  min  max\n",
       "country                                \n",
       "Argentina           1   81.00   81   81\n",
       "Australia           5  102.60   93  120\n",
       "Canada              1   31.00   31   31\n",
       "Egypt               1  130.00  130  130\n",
       "France              5  112.80   94  136\n",
       "Germany             2   89.50   85   94\n",
       "Hong Kong          11   94.36   79  125\n",
       "India              34  162.85  126  193\n",
       "Japan               2   78.00   69   87\n",
       "Mexico              3  103.33   94  111\n",
       "Poland              1   88.00   88   88\n",
       "Thailand            1  101.00  101  101\n",
       "United Kingdom     17   97.06   28  143\n",
       "United States     100  106.90    1  195"
      ]
     },
     "execution_count": 14,
     "metadata": {},
     "output_type": "execute_result"
    }
   ],
   "source": [
    "round(decade_90.groupby(\"country\")[\"duration\"].agg([\"count\",\"mean\",\"min\",\"max\"]),2)"
   ]
  },
  {
   "cell_type": "markdown",
   "id": "f08766bf",
   "metadata": {},
   "source": [
    "<p>Agrupación por más de una columna</p>"
   ]
  },
  {
   "cell_type": "code",
   "execution_count": 15,
   "id": "e4e9ccfa",
   "metadata": {},
   "outputs": [
    {
     "data": {
      "text/html": [
       "<div>\n",
       "<style scoped>\n",
       "    .dataframe tbody tr th:only-of-type {\n",
       "        vertical-align: middle;\n",
       "    }\n",
       "\n",
       "    .dataframe tbody tr th {\n",
       "        vertical-align: top;\n",
       "    }\n",
       "\n",
       "    .dataframe thead th {\n",
       "        text-align: right;\n",
       "    }\n",
       "</style>\n",
       "<table border=\"1\" class=\"dataframe\">\n",
       "  <thead>\n",
       "    <tr style=\"text-align: right;\">\n",
       "      <th></th>\n",
       "      <th></th>\n",
       "      <th>count</th>\n",
       "    </tr>\n",
       "    <tr>\n",
       "      <th>release_year</th>\n",
       "      <th>country</th>\n",
       "      <th></th>\n",
       "    </tr>\n",
       "  </thead>\n",
       "  <tbody>\n",
       "    <tr>\n",
       "      <th rowspan=\"5\" valign=\"top\">1990</th>\n",
       "      <th>Australia</th>\n",
       "      <td>1</td>\n",
       "    </tr>\n",
       "    <tr>\n",
       "      <th>Hong Kong</th>\n",
       "      <td>1</td>\n",
       "    </tr>\n",
       "    <tr>\n",
       "      <th>India</th>\n",
       "      <td>4</td>\n",
       "    </tr>\n",
       "    <tr>\n",
       "      <th>Poland</th>\n",
       "      <td>1</td>\n",
       "    </tr>\n",
       "    <tr>\n",
       "      <th>United States</th>\n",
       "      <td>8</td>\n",
       "    </tr>\n",
       "    <tr>\n",
       "      <th rowspan=\"5\" valign=\"top\">1991</th>\n",
       "      <th>France</th>\n",
       "      <td>1</td>\n",
       "    </tr>\n",
       "    <tr>\n",
       "      <th>India</th>\n",
       "      <td>1</td>\n",
       "    </tr>\n",
       "    <tr>\n",
       "      <th>Mexico</th>\n",
       "      <td>1</td>\n",
       "    </tr>\n",
       "    <tr>\n",
       "      <th>United Kingdom</th>\n",
       "      <td>2</td>\n",
       "    </tr>\n",
       "    <tr>\n",
       "      <th>United States</th>\n",
       "      <td>9</td>\n",
       "    </tr>\n",
       "    <tr>\n",
       "      <th rowspan=\"6\" valign=\"top\">1992</th>\n",
       "      <th>Australia</th>\n",
       "      <td>2</td>\n",
       "    </tr>\n",
       "    <tr>\n",
       "      <th>Hong Kong</th>\n",
       "      <td>3</td>\n",
       "    </tr>\n",
       "    <tr>\n",
       "      <th>India</th>\n",
       "      <td>1</td>\n",
       "    </tr>\n",
       "    <tr>\n",
       "      <th>Mexico</th>\n",
       "      <td>1</td>\n",
       "    </tr>\n",
       "    <tr>\n",
       "      <th>United Kingdom</th>\n",
       "      <td>3</td>\n",
       "    </tr>\n",
       "    <tr>\n",
       "      <th>United States</th>\n",
       "      <td>6</td>\n",
       "    </tr>\n",
       "    <tr>\n",
       "      <th rowspan=\"5\" valign=\"top\">1993</th>\n",
       "      <th>France</th>\n",
       "      <td>1</td>\n",
       "    </tr>\n",
       "    <tr>\n",
       "      <th>Hong Kong</th>\n",
       "      <td>2</td>\n",
       "    </tr>\n",
       "    <tr>\n",
       "      <th>India</th>\n",
       "      <td>3</td>\n",
       "    </tr>\n",
       "    <tr>\n",
       "      <th>United Kingdom</th>\n",
       "      <td>1</td>\n",
       "    </tr>\n",
       "    <tr>\n",
       "      <th>United States</th>\n",
       "      <td>9</td>\n",
       "    </tr>\n",
       "    <tr>\n",
       "      <th rowspan=\"5\" valign=\"top\">1994</th>\n",
       "      <th>Egypt</th>\n",
       "      <td>1</td>\n",
       "    </tr>\n",
       "    <tr>\n",
       "      <th>Hong Kong</th>\n",
       "      <td>1</td>\n",
       "    </tr>\n",
       "    <tr>\n",
       "      <th>India</th>\n",
       "      <td>4</td>\n",
       "    </tr>\n",
       "    <tr>\n",
       "      <th>United Kingdom</th>\n",
       "      <td>2</td>\n",
       "    </tr>\n",
       "    <tr>\n",
       "      <th>United States</th>\n",
       "      <td>6</td>\n",
       "    </tr>\n",
       "    <tr>\n",
       "      <th rowspan=\"4\" valign=\"top\">1995</th>\n",
       "      <th>Hong Kong</th>\n",
       "      <td>2</td>\n",
       "    </tr>\n",
       "    <tr>\n",
       "      <th>India</th>\n",
       "      <td>4</td>\n",
       "    </tr>\n",
       "    <tr>\n",
       "      <th>United Kingdom</th>\n",
       "      <td>1</td>\n",
       "    </tr>\n",
       "    <tr>\n",
       "      <th>United States</th>\n",
       "      <td>9</td>\n",
       "    </tr>\n",
       "    <tr>\n",
       "      <th rowspan=\"3\" valign=\"top\">1996</th>\n",
       "      <th>India</th>\n",
       "      <td>3</td>\n",
       "    </tr>\n",
       "    <tr>\n",
       "      <th>United Kingdom</th>\n",
       "      <td>1</td>\n",
       "    </tr>\n",
       "    <tr>\n",
       "      <th>United States</th>\n",
       "      <td>11</td>\n",
       "    </tr>\n",
       "    <tr>\n",
       "      <th rowspan=\"6\" valign=\"top\">1997</th>\n",
       "      <th>France</th>\n",
       "      <td>1</td>\n",
       "    </tr>\n",
       "    <tr>\n",
       "      <th>Hong Kong</th>\n",
       "      <td>2</td>\n",
       "    </tr>\n",
       "    <tr>\n",
       "      <th>India</th>\n",
       "      <td>3</td>\n",
       "    </tr>\n",
       "    <tr>\n",
       "      <th>Japan</th>\n",
       "      <td>1</td>\n",
       "    </tr>\n",
       "    <tr>\n",
       "      <th>United Kingdom</th>\n",
       "      <td>3</td>\n",
       "    </tr>\n",
       "    <tr>\n",
       "      <th>United States</th>\n",
       "      <td>16</td>\n",
       "    </tr>\n",
       "    <tr>\n",
       "      <th rowspan=\"7\" valign=\"top\">1998</th>\n",
       "      <th>Argentina</th>\n",
       "      <td>1</td>\n",
       "    </tr>\n",
       "    <tr>\n",
       "      <th>Australia</th>\n",
       "      <td>2</td>\n",
       "    </tr>\n",
       "    <tr>\n",
       "      <th>Canada</th>\n",
       "      <td>1</td>\n",
       "    </tr>\n",
       "    <tr>\n",
       "      <th>India</th>\n",
       "      <td>5</td>\n",
       "    </tr>\n",
       "    <tr>\n",
       "      <th>Japan</th>\n",
       "      <td>1</td>\n",
       "    </tr>\n",
       "    <tr>\n",
       "      <th>United Kingdom</th>\n",
       "      <td>2</td>\n",
       "    </tr>\n",
       "    <tr>\n",
       "      <th>United States</th>\n",
       "      <td>14</td>\n",
       "    </tr>\n",
       "    <tr>\n",
       "      <th rowspan=\"7\" valign=\"top\">1999</th>\n",
       "      <th>France</th>\n",
       "      <td>2</td>\n",
       "    </tr>\n",
       "    <tr>\n",
       "      <th>Germany</th>\n",
       "      <td>2</td>\n",
       "    </tr>\n",
       "    <tr>\n",
       "      <th>India</th>\n",
       "      <td>6</td>\n",
       "    </tr>\n",
       "    <tr>\n",
       "      <th>Mexico</th>\n",
       "      <td>1</td>\n",
       "    </tr>\n",
       "    <tr>\n",
       "      <th>Thailand</th>\n",
       "      <td>1</td>\n",
       "    </tr>\n",
       "    <tr>\n",
       "      <th>United Kingdom</th>\n",
       "      <td>2</td>\n",
       "    </tr>\n",
       "    <tr>\n",
       "      <th>United States</th>\n",
       "      <td>12</td>\n",
       "    </tr>\n",
       "  </tbody>\n",
       "</table>\n",
       "</div>"
      ],
      "text/plain": [
       "                             count\n",
       "release_year country              \n",
       "1990         Australia           1\n",
       "             Hong Kong           1\n",
       "             India               4\n",
       "             Poland              1\n",
       "             United States       8\n",
       "1991         France              1\n",
       "             India               1\n",
       "             Mexico              1\n",
       "             United Kingdom      2\n",
       "             United States       9\n",
       "1992         Australia           2\n",
       "             Hong Kong           3\n",
       "             India               1\n",
       "             Mexico              1\n",
       "             United Kingdom      3\n",
       "             United States       6\n",
       "1993         France              1\n",
       "             Hong Kong           2\n",
       "             India               3\n",
       "             United Kingdom      1\n",
       "             United States       9\n",
       "1994         Egypt               1\n",
       "             Hong Kong           1\n",
       "             India               4\n",
       "             United Kingdom      2\n",
       "             United States       6\n",
       "1995         Hong Kong           2\n",
       "             India               4\n",
       "             United Kingdom      1\n",
       "             United States       9\n",
       "1996         India               3\n",
       "             United Kingdom      1\n",
       "             United States      11\n",
       "1997         France              1\n",
       "             Hong Kong           2\n",
       "             India               3\n",
       "             Japan               1\n",
       "             United Kingdom      3\n",
       "             United States      16\n",
       "1998         Argentina           1\n",
       "             Australia           2\n",
       "             Canada              1\n",
       "             India               5\n",
       "             Japan               1\n",
       "             United Kingdom      2\n",
       "             United States      14\n",
       "1999         France              2\n",
       "             Germany             2\n",
       "             India               6\n",
       "             Mexico              1\n",
       "             Thailand            1\n",
       "             United Kingdom      2\n",
       "             United States      12"
      ]
     },
     "execution_count": 15,
     "metadata": {},
     "output_type": "execute_result"
    }
   ],
   "source": [
    "decade_90.groupby([\"release_year\",\"country\"])[\"title\"].agg([\"count\"])"
   ]
  },
  {
   "cell_type": "markdown",
   "id": "d3b9d7d4",
   "metadata": {},
   "source": [
    "<p>Top 5 países con más películas</p>"
   ]
  },
  {
   "cell_type": "code",
   "execution_count": 16,
   "id": "dfe9f7c7",
   "metadata": {},
   "outputs": [
    {
     "data": {
      "text/plain": [
       "country\n",
       "United States     100\n",
       "India              34\n",
       "United Kingdom     17\n",
       "Hong Kong          11\n",
       "Australia           5\n",
       "Name: title, dtype: int64"
      ]
     },
     "execution_count": 16,
     "metadata": {},
     "output_type": "execute_result"
    }
   ],
   "source": [
    "decade_90.groupby(\"country\")[\"title\"].count().sort_values(ascending=False).head(5)\n"
   ]
  }
 ],
 "metadata": {
  "kernelspec": {
   "display_name": "Python 3",
   "language": "python",
   "name": "python3"
  },
  "language_info": {
   "codemirror_mode": {
    "name": "ipython",
    "version": 3
   },
   "file_extension": ".py",
   "mimetype": "text/x-python",
   "name": "python",
   "nbconvert_exporter": "python",
   "pygments_lexer": "ipython3",
   "version": "3.13.5"
  }
 },
 "nbformat": 4,
 "nbformat_minor": 5
}
